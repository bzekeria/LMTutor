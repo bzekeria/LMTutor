{
 "cells": [
  {
   "cell_type": "code",
   "execution_count": 1,
   "metadata": {},
   "outputs": [],
   "source": [
    "from langchain.embeddings.openai import OpenAIEmbeddings\n",
    "from langchain.embeddings import HuggingFaceInstructEmbeddings\n",
    "from langchain.vectorstores import Chroma, FAISS\n",
    "from langchain.text_splitter import CharacterTextSplitter\n",
    "from langchain.llms import OpenAI\n",
    "from langchain.chains import ConversationalRetrievalChain\n",
    "\n",
    "import openai\n",
    "import os\n",
    "# openai.api_key = \"\"\n",
    "os.environ['OPENAI_API_KEY'] = \"\""
   ]
  },
  {
   "cell_type": "code",
   "execution_count": 2,
   "metadata": {},
   "outputs": [
    {
     "name": "stderr",
     "output_type": "stream",
     "text": [
      "100%|█████████████████████████████████████████████| 1/1 [00:01<00:00,  1.89s/it]\n"
     ]
    }
   ],
   "source": [
    "from langchain.document_loaders import TextLoader\n",
    "from langchain.document_loaders import DirectoryLoader\n",
    "\n",
    "loader = DirectoryLoader('data/TextBooks', glob=\"./DSC140B-Lec01.pdf\", show_progress=True) ### many doc loaders\n",
    "docs = loader.load()\n",
    "\n",
    "text_splitter = CharacterTextSplitter(chunk_size=1000, chunk_overlap=0)\n",
    "documents = text_splitter.split_documents(docs)"
   ]
  },
  {
   "cell_type": "code",
   "execution_count": 3,
   "metadata": {},
   "outputs": [
    {
     "name": "stderr",
     "output_type": "stream",
     "text": [
      "/home/reventh/anaconda3/envs/lmtutor/lib/python3.9/site-packages/InstructorEmbedding/instructor.py:7: TqdmExperimentalWarning: Using `tqdm.autonotebook.tqdm` in notebook mode. Use `tqdm.tqdm` instead to force console mode (e.g. in jupyter console)\n",
      "  from tqdm.autonotebook import trange\n"
     ]
    },
    {
     "name": "stdout",
     "output_type": "stream",
     "text": [
      "load INSTRUCTOR_Transformer\n",
      "max_seq_length  512\n"
     ]
    }
   ],
   "source": [
    "# embeddings = OpenAIEmbeddings() ### many embedding functions\n",
    "embeddings = HuggingFaceInstructEmbeddings(query_instruction=\"Represent the query for retrieval: \", model_kwargs={'device':'cuda:0'}, encode_kwargs={'batch_size':32})\n"
   ]
  },
  {
   "cell_type": "code",
   "execution_count": 6,
   "metadata": {},
   "outputs": [
    {
     "data": {
      "text/plain": [
       "<langchain.vectorstores.faiss.FAISS at 0x7ff11c45ec70>"
      ]
     },
     "execution_count": 6,
     "metadata": {},
     "output_type": "execute_result"
    }
   ],
   "source": [
    "vectorstore = FAISS.from_documents(documents, embeddings) ### choose from FAISS, Chroma, \n",
    "vectorstore.save_local('data/TextBooks/vectorstore_DSC140B-Lec01.vs')\n",
    "FAISS.load_local(\"data/TextBooks/vectorstore_DSC140B-Lec01.vs\", embeddings=embeddings)"
   ]
  },
  {
   "cell_type": "code",
   "execution_count": 7,
   "metadata": {},
   "outputs": [
    {
     "name": "stdout",
     "output_type": "stream",
     "text": [
      "An ML algorithm is a set of precise instructions telling the computer how to learn from data.\n",
      "\n",
      "This is because real world data has “structure”.\n",
      "\n",
      "An ML algorithm is a set of precise instructions telling the computer how to learn from data.\n",
      "\n",
      "Spoiler: the algorithms are usually pretty simple. It’s the data that does the real work.\n",
      "\n",
      "An ML algorithm is a set of precise instructions telling the computer how to learn from data.\n",
      "\n",
      "Spoiler: the algorithms are usually pretty simple. It’s the data that does the real work.\n",
      "\n",
      "This is because real world data has “structure”.\n",
      "\n",
      "Problem: On a scale from 1-10, how happy is this person?\n",
      "\n",
      "Recall: Least Squares Regression\n",
      "\n",
      "▶ Example: predict the price of a laptop.\n",
      "\n",
      "▶ Choose some features:\n",
      "\n",
      "▶ CPU speed, amount of RAM, weight (kg).\n",
      "\n",
      "▶ Prediction function (weighted “vote”):\n",
      "\n",
      "(price) = 𝑤0 + 𝑤1 × (cpu) + 𝑤2 × (ram) + 𝑤3 × (weight)\n",
      "\n",
      "▶ Learn 𝑤𝑖 by minimizing squared error.\n",
      "\n",
      "Representations\n",
      "\n",
      "▶ Computers don’t understand the concept of a\n",
      "\n",
      "laptop.\n"
     ]
    }
   ],
   "source": [
    "query = \"What is ML algorithm?\"\n",
    "docs = vectorstore.similarity_search(query)\n",
    "print(docs[0].page_content)"
   ]
  },
  {
   "cell_type": "code",
   "execution_count": 1,
   "metadata": {},
   "outputs": [],
   "source": [
    "from langchain.memory import ConversationBufferMemory\n",
    "memory = ConversationBufferMemory(memory_key=\"chat_history\", return_messages=True)"
   ]
  },
  {
   "cell_type": "code",
   "execution_count": null,
   "metadata": {},
   "outputs": [],
   "source": [
    "from langchain.llms import HuggingFacePipeline\n",
    "import torch\n",
    "llm = HuggingFacePipeline.from_model_id(\n",
    "                model_id=\"lmsys/vicuna-7b-v1.5\",\n",
    "                task=\"text-generation\",#\"text2text-generation\",#,\n",
    "                model_kwargs={\"temperature\": 0.7, \"max_length\": 32, \"torch_dtype\": torch.float16},\n",
    "                pipeline_kwargs={'max_new_tokens':32},\n",
    "                device=\"cuda:0\"\n",
    "            )\n",
    "qa = ConversationalRetrievalChain.from_llm(llm, vectorstore.as_retriever(), memory=memory, return_source_documents=True)"
   ]
  },
  {
   "cell_type": "code",
   "execution_count": null,
   "metadata": {},
   "outputs": [],
   "source": [
    "query = \"What is ML algorithm?\"\n",
    "result = qa({\"question\": query})"
   ]
  },
  {
   "cell_type": "code",
   "execution_count": null,
   "metadata": {},
   "outputs": [],
   "source": [
    "result"
   ]
  },
  {
   "cell_type": "code",
   "execution_count": null,
   "metadata": {},
   "outputs": [],
   "source": [
    "from model.llm_langchain_tutor import LLMLangChainTutor"
   ]
  },
  {
   "cell_type": "code",
   "execution_count": null,
   "metadata": {},
   "outputs": [],
   "source": [
    "lmtutor = LLMLangChainTutor(openai_key=\"\")\n",
    "lmtutor.load_vector_store(\"data/TextBooks/vectorstore_DSC140B-Lec01\")\n",
    "lmtutor.conversational_qa_init()"
   ]
  },
  {
   "cell_type": "code",
   "execution_count": null,
   "metadata": {},
   "outputs": [],
   "source": [
    "lmtutor.conversational_qa('Is there a discussion session this week?')"
   ]
  },
  {
   "cell_type": "code",
   "execution_count": 1,
   "metadata": {},
   "outputs": [],
   "source": [
    "from model.llm_langchain_tutor import LLMLangChainTutor"
   ]
  },
  {
   "cell_type": "code",
   "execution_count": 2,
   "metadata": {},
   "outputs": [
    {
     "name": "stderr",
     "output_type": "stream",
     "text": [
      "/home/yuheng/.conda/envs/lmtutor/lib/python3.9/site-packages/InstructorEmbedding/instructor.py:7: TqdmWarning: IProgress not found. Please update jupyter and ipywidgets. See https://ipywidgets.readthedocs.io/en/stable/user_install.html\n",
      "  from tqdm.autonotebook import trange\n"
     ]
    },
    {
     "name": "stdout",
     "output_type": "stream",
     "text": [
      "load INSTRUCTOR_Transformer\n",
      "max_seq_length  512\n"
     ]
    }
   ],
   "source": [
    "lmtutor = LLMLangChainTutor(embedding='instruct_embedding', llm='hf_facebook/bart-large-cnn', device='cuda:6')"
   ]
  },
  {
   "cell_type": "code",
   "execution_count": 4,
   "metadata": {},
   "outputs": [
    {
     "name": "stderr",
     "output_type": "stream",
     "text": [
      "100%|██████████| 1/1 [00:00<00:00,  1.40it/s]\n",
      "Created a chunk of size 121, which is longer than the specified 100\n",
      "Created a chunk of size 125, which is longer than the specified 100\n",
      "Created a chunk of size 132, which is longer than the specified 100\n",
      "Created a chunk of size 102, which is longer than the specified 100\n",
      "Created a chunk of size 125, which is longer than the specified 100\n",
      "Created a chunk of size 101, which is longer than the specified 100\n",
      "Created a chunk of size 102, which is longer than the specified 100\n"
     ]
    }
   ],
   "source": [
    "lmtutor.load_document(doc_path=\"data/TextBooks\", glob='./DSC140B-Lec01.pdf', chunk_size=100, chunk_overlap=10)\n",
    "lmtutor.generate_vector_store()\n",
    "# lmtutor.conversational_qa_init()"
   ]
  },
  {
   "cell_type": "code",
   "execution_count": 6,
   "metadata": {},
   "outputs": [
    {
     "data": {
      "text/plain": [
       "'https://www.sdsc.edu/event_items/ 202304-ChatGPT.html\\n\\nMain Idea'"
      ]
     },
     "execution_count": 6,
     "metadata": {},
     "output_type": "execute_result"
    }
   ],
   "source": [
    "lmtutor.similarity_search(\"is there a discussion session?\")[0].page_content"
   ]
  },
  {
   "cell_type": "code",
   "execution_count": null,
   "metadata": {},
   "outputs": [],
   "source": [
    "lmtutor.conversational_qa('is there a discussion session this week?')"
   ]
  }
 ],
 "metadata": {
  "kernelspec": {
   "display_name": "Python [conda env:lmtutor]",
   "language": "python",
   "name": "conda-env-lmtutor-py"
  },
  "language_info": {
   "codemirror_mode": {
    "name": "ipython",
    "version": 3
   },
   "file_extension": ".py",
   "mimetype": "text/x-python",
   "name": "python",
   "nbconvert_exporter": "python",
   "pygments_lexer": "ipython3",
   "version": "3.9.16"
  }
 },
 "nbformat": 4,
 "nbformat_minor": 2
}
